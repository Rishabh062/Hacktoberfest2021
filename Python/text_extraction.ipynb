{
 "cells": [
  {
   "cell_type": "markdown",
   "id": "edc710a4",
   "metadata": {},
   "source": [
    "## text extraction using opencv and pytesseract\n",
    "\n"
   ]
  },
  {
   "cell_type": "code",
   "execution_count": 3,
   "id": "5dec2093",
   "metadata": {},
   "outputs": [
    {
     "name": "stdout",
     "output_type": "stream",
     "text": [
      "write an essay on Literary\n",
      "Devices in Othello:\n",
      "\n",
      "research: oct 9- oct 72\n",
      "thesis statement: oct 73\n",
      "first draft: oct 74 - oct 79\n",
      "\n",
      "revisions: oct 20 - oct 22\n",
      "\n",
      "proofread: oct 23 - oct 24\n",
      "\n",
      "final paper: oct 25 - oct 27\n",
      "\n",
      " \n",
      "\f",
      "\n"
     ]
    },
    {
     "data": {
      "text/plain": [
       "-1"
      ]
     },
     "execution_count": 3,
     "metadata": {},
     "output_type": "execute_result"
    }
   ],
   "source": [
    "import cv2\n",
    "import pytesseract\n",
    "\n",
    "img = cv2.imread('1.jpg')\n",
    "img2 = cv2.resize(img , (480,480))\n",
    "#you have t first download pytesseract for this to work.\n",
    "pytesseract.pytesseract.tesseract_cmd = r'C:\\Program Files\\Tesseract-OCR\\tesseract.exe'\n",
    "\n",
    "text = pytesseract.image_to_string(img)\n",
    "print(text)\n",
    "cv2.imshow('output' , img2)\n",
    "cv2.waitKey()\n"
   ]
  },
  {
   "cell_type": "markdown",
   "id": "1e5312ff",
   "metadata": {},
   "source": [
    "## text extraction using pillow and pytesseract"
   ]
  },
  {
   "cell_type": "code",
   "execution_count": 4,
   "id": "558477bd",
   "metadata": {},
   "outputs": [
    {
     "name": "stdout",
     "output_type": "stream",
     "text": [
      "write an essay on Literary\n",
      "* Devices in Othello:\n",
      "\n",
      "research: oct 9- oct 72\n",
      "thesis statement: oct 73\n",
      "first draft: oct 74 - oct 79\n",
      "\n",
      "revisions: oct 20 - oct 22\n",
      "\n",
      "proofread: oct 23 - oct 24\n",
      "\n",
      "final paper: oct 25 - oct 27\n",
      "\n",
      " \n",
      "\f",
      "\n"
     ]
    }
   ],
   "source": [
    "import pytesseract\n",
    "from PIL import Image\n",
    "\n",
    "img = Image.open('1.jpg')\n",
    "pytesseract.pytesseract.tesseract_cmd = r'C:\\Program Files\\Tesseract-OCR\\tesseract.exe'\n",
    "print( pytesseract.image_to_string(img) )\n"
   ]
  },
  {
   "cell_type": "code",
   "execution_count": null,
   "id": "494367c2",
   "metadata": {},
   "outputs": [],
   "source": []
  }
 ],
 "metadata": {
  "kernelspec": {
   "display_name": "Python 3",
   "language": "python",
   "name": "python3"
  },
  "language_info": {
   "codemirror_mode": {
    "name": "ipython",
    "version": 3
   },
   "file_extension": ".py",
   "mimetype": "text/x-python",
   "name": "python",
   "nbconvert_exporter": "python",
   "pygments_lexer": "ipython3",
   "version": "3.8.8"
  }
 },
 "nbformat": 4,
 "nbformat_minor": 5
}
