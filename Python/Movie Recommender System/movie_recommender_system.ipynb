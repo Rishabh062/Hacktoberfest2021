{
 "cells": [
  {
   "cell_type": "markdown",
   "metadata": {
    "id": "plMXoL6Y64Zp"
   },
   "source": [
    "### Name : Gundeep Singh Saluja\n",
    "### CWID : 20005427\n",
    "### email: gsaluja@stevens.edu\n",
    " (Fill in for 5pts)"
   ]
  },
  {
   "cell_type": "markdown",
   "metadata": {
    "id": "YwcuuF_Z8N4_"
   },
   "source": [
    "##### **Collaboration Policy.** Homeworks will be done individually: each student must hand in their own answers. Use of partial or entire solutions obtained from others or online is strictly prohibited."
   ]
  },
  {
   "cell_type": "markdown",
   "metadata": {
    "id": "JfRCbz0F8Tnm"
   },
   "source": [
    "##### **Late Policy.** No late submissions will be allowed without consent from the instructor. If urgent or unusual circumstances prohibit you from submitting a homework assignment in time, please e-mail Professor or TAs explaining the situation."
   ]
  },
  {
   "cell_type": "markdown",
   "metadata": {
    "id": "j2FbKXrP2hVg"
   },
   "source": [
    "##### **Submission format** : Complete this jupyter notebook to successfully implement recommender systems on the Movie Lens Dataset. Follow this link https://stackoverflow.com/questions/53460051/convert-ipynb-notebook-to-html-in-google-colab to convert your **executed** notebook and submit in the form of  html file. (We will need you to fill in all the required cells, run the cell to get the required output, and then convert the notebook to a HTML file)"
   ]
  },
  {
   "cell_type": "markdown",
   "metadata": {
    "id": "SyXcDsQbVExv"
   },
   "source": [
    "#### Objective of the assignment : **Build a recommender system using the MovieLens Dataset** \n",
    "We have outlined the major steps involved to help you achieve the goal of building your own recommender system. Given a name of the movie, your model should output the top 5 movies similar to that particular movie.\n",
    "\n",
    "1.   Import all the required libraries \n",
    "2.   Read the dataset\n",
    "3.   Create a rating  matrix\n",
    "4.   Normalise this rating matrix \n",
    "5.   Compute SVD of this normalised rating matrix\n",
    "6.   Define a function that computes the cosine similarity between two movies\n",
    "7.   Based on cosine similarity, sort the movies which are most similar and return the top 5 movies that match a given a movie title\n",
    "\n"
   ]
  },
  {
   "cell_type": "code",
   "execution_count": 55,
   "metadata": {
    "id": "35l73b6_9CnS"
   },
   "outputs": [],
   "source": [
    "# Import all the required libraries\n",
    "import numpy as np\n",
    "import pandas as pd\n",
    "from numpy import linalg\n",
    "from scipy.linalg import svd\n",
    "from sklearn.metrics.pairwise import cosine_similarity"
   ]
  },
  {
   "cell_type": "markdown",
   "metadata": {
    "id": "HZnPUHzoPAMU"
   },
   "source": [
    "#### Read the Dataset using read_csv function from Pandas"
   ]
  },
  {
   "cell_type": "code",
   "execution_count": 56,
   "metadata": {
    "id": "TyjYlEGe9Fl9"
   },
   "outputs": [],
   "source": [
    "## Read the dataset from the two files into ratings_data and movies_data\n",
    "ratings_data  = pd.read_csv(\"ratings.dat\", names=[\"UserID\", \"MovieID\", \"Rating\", \"TimeStamp\"], sep = \"::\", engine = \"python\")\n",
    "df_ratings = pd.DataFrame(ratings_data)\n",
    "\n",
    "movies_data = pd.read_csv(\"movies.dat\", names = [\"MovieID\", \"Title\", \"Genre\"], sep = \"::\", engine = \"python\", encoding=\"ISO-8859-1\")\n",
    "df_movies = pd.DataFrame(movies_data)\n",
    "\n",
    "users_data = pd.read_csv(\"users.dat\", names=[\"UserID\", \"Gender\", \"Age\", \"Occupation\", \"Zip-Code\"], sep = \"::\", engine = \"python\")\n",
    "df_users = pd.DataFrame(users_data)"
   ]
  },
  {
   "cell_type": "code",
   "execution_count": 57,
   "metadata": {
    "id": "NwfX3JoTPr_1"
   },
   "outputs": [],
   "source": [
    "# Create an appropriate rating matrix where the rows of the matrix are movies and columns as users\n",
    "rating_matrix = pd.pivot_table(df_ratings, index = \"MovieID\", columns = \"UserID\", values=\"Rating\")\n",
    "rating_matrix = rating_matrix.fillna(0)"
   ]
  },
  {
   "cell_type": "code",
   "execution_count": 58,
   "metadata": {
    "id": "W7IpKIkRP507"
   },
   "outputs": [],
   "source": [
    "# Normalise the rating matrix and call it normalised_matrix\n",
    "normalised_value = linalg.norm(rating_matrix)\n",
    "normalized_matrix = rating_matrix/normalised_value"
   ]
  },
  {
   "cell_type": "code",
   "execution_count": 59,
   "metadata": {
    "id": "UZ_jvrKKQDnq"
   },
   "outputs": [],
   "source": [
    "# compute the SVD of the normalised matrix. Use the svd function from np.linalg\n",
    "U,S,Vt = svd(normalized_matrix)"
   ]
  },
  {
   "cell_type": "markdown",
   "metadata": {
    "id": "Ezwmvv1VQhTK"
   },
   "source": [
    "#### Cosine Similarity : Compute the cosine similarity to find the similarity between any two movies. Mathematically the cosine similarity is given as follows: \n",
    "$$ cosine(x,y) = \\frac{x\\cdot y^T}{||x||\\cdot ||y||}  $$"
   ]
  },
  {
   "cell_type": "markdown",
   "metadata": {
    "id": "ehGjsCqcYXo_"
   },
   "source": [
    "##### Get the top 5 recommendations given a title\n",
    "\n",
    "\n"
   ]
  },
  {
   "cell_type": "code",
   "execution_count": 60,
   "metadata": {
    "id": "Ce9Np8IfruW9"
   },
   "outputs": [],
   "source": [
    "def print_top5_recommendations(movie_id):   \n",
    "    cos_sim = cosine_similarity(U)\n",
    "    l = len(cos_sim[0])\n",
    "\n",
    "    ind_mov = {}\n",
    "    dfm = df_movies[\"MovieID\"]\n",
    "    for i in range(len(dfm)):\n",
    "        ind_mov[dfm[i]] = i\n",
    "    \n",
    "    argsorted = np.argsort(cos_sim[ind_mov[movie_id]])[::-1][1:6]\n",
    "    \n",
    "    print(f\"Top 5 recommendations for {df_movies.loc[df_movies['MovieID'] == movie_id, 'Title'].iloc[0]}:\\n\")\n",
    "\n",
    "    for mid in argsorted:\n",
    "        print(df_movies.loc[df_movies['MovieID'] == mid, 'Title'].iloc[0])"
   ]
  },
  {
   "cell_type": "code",
   "execution_count": 61,
   "metadata": {},
   "outputs": [
    {
     "name": "stdout",
     "output_type": "stream",
     "text": [
      "Top 5 recommendations for Universal Soldier (1992):\n",
      "\n",
      "Encino Man (1992)\n",
      "Jungle Book, The (1994)\n",
      "Legend (1985)\n",
      "Baby-Sitters Club, The (1995)\n",
      "Relax... It's Just Sex (1998)\n"
     ]
    }
   ],
   "source": [
    "print_top5_recommendations(2808) # 2808 is the id for Universal Soldier(1992)"
   ]
  },
  {
   "cell_type": "markdown",
   "metadata": {
    "id": "tAO6uaUdqU2_"
   },
   "source": [
    "#### Sample Recommendations for a movie(Universal Soldier(1992))"
   ]
  },
  {
   "cell_type": "markdown",
   "metadata": {},
   "source": []
  }
 ],
 "metadata": {
  "colab": {
   "collapsed_sections": [],
   "name": "CS556HW2.ipynb",
   "provenance": []
  },
  "interpreter": {
   "hash": "b3ba2566441a7c06988d0923437866b63cedc61552a5af99d1f4fb67d367b25f"
  },
  "kernelspec": {
   "display_name": "Python 3 (ipykernel)",
   "language": "python",
   "name": "python3"
  },
  "language_info": {
   "codemirror_mode": {
    "name": "ipython",
    "version": 3
   },
   "file_extension": ".py",
   "mimetype": "text/x-python",
   "name": "python",
   "nbconvert_exporter": "python",
   "pygments_lexer": "ipython3",
   "version": "3.8.8"
  }
 },
 "nbformat": 4,
 "nbformat_minor": 2
}
